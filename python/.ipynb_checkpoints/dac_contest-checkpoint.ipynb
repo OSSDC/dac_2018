{
 "cells": [
  {
   "cell_type": "markdown",
   "metadata": {
    "collapsed": true
   },
   "source": [
    "# Instructions for DAC Contest\n",
    "This reference design will help you walk through the rules of the contest.\n",
    "\n",
    "Note:\n",
    "1. Any change in `preprocessing.py` will make your design fail in evaluation. This file should not be changed.\n",
    "2. Only \"resize\" is allowed on PS side. Any other inference executed on PS side would be regarded as fail.\n",
    "\n",
    "Time for a batch processing should start before \"PS reading images\" and end after \"PS receiving all results\". \n",
    "Please check the reference for details.\n",
    "\n",
    "Batch size is 500 by default.\n",
    "\n",
    "Please write your results using the methods `write()` and `save_results_xml()`.\n",
    "\n",
    "It is your choice how to record the inference result. \n",
    "However, it must be readable, and you must convert it to XML files. An example is provided.\n",
    "Please pack your code into `teamname.py`. \n",
    "Your design should be able to process all evaluation images with one click.\n",
    "\n",
    "If you have any question, please contact [Xinyi Zhang at University of Pittsburgh](mailto:xinyizhang@pitt.edu).\n",
    "    "
   ]
  },
  {
   "cell_type": "code",
   "execution_count": 1,
   "metadata": {},
   "outputs": [],
   "source": [
    "import sys\n",
    "import math\n",
    "import numpy as np \n",
    "import os\n",
    "import time\n",
    "from PIL import Image\n",
    "import cv2\n",
    "from datetime import datetime\n",
    "from pynq import Xlnk\n",
    "from pynq import Overlay\n",
    "from preprocessing import Agent\n",
    "from preprocessing import BATCH_SIZE\n",
    "from preprocessing import get_image_path\n",
    "\n",
    "team = 'pynquser'\n",
    "agent = Agent(team)"
   ]
  },
  {
   "cell_type": "markdown",
   "metadata": {},
   "source": [
    "Your raw data will be kept in `agent.coord_team`.\n",
    "\n",
    "Your XML files will be kept in `agent.xml_team`.\n",
    "\n",
    "The following cell is not a real design for image detection. But you can\n",
    "use it to start your design."
   ]
  },
  {
   "cell_type": "code",
   "execution_count": 2,
   "metadata": {},
   "outputs": [],
   "source": [
    "overlay = Overlay(\"/home/xilinx/jupyter_notebooks/dac_contest/overlay/\"\n",
    "                  \"dac_contest.bit\")\n",
    "dma = overlay.axi_dma_0\n",
    "\n",
    "xlnk = Xlnk()\n",
    "in_buffer = xlnk.cma_array(shape=(4,), dtype=np.uint32)\n",
    "out_buffer = xlnk.cma_array(shape=(4,), dtype=np.uint32)"
   ]
  },
  {
   "cell_type": "markdown",
   "metadata": {},
   "source": [
    "Data flows from PS to PL, then back to PS by DMA. Using interrupt is recommended. \n",
    "More details can be found in the reference block design.\n",
    "\n",
    "You must iterate all batches. Here, we will just grabs 4 integers from a batch \n",
    "and then loops them back. It is your responsibility to record the output raw data. \n",
    "\n",
    "You can put batches results in separate files or a single file. \n",
    "\n",
    "You should measure the time for processing all the images. Timer should start \n",
    "before \"PS reading images\" and end after \"PS receiving results\".\n",
    "\n",
    "Note: In the following example, we are only dealing with the first image in a batch.\n",
    "In the real contest, you should process all the images in every batch."
   ]
  },
  {
   "cell_type": "code",
   "execution_count": 3,
   "metadata": {},
   "outputs": [
    {
     "name": "stdout",
     "output_type": "stream",
     "text": [
      "Processing time: 0.01862049102783203 seconds.\n"
     ]
    }
   ],
   "source": [
    "total_time = 0\n",
    "total_num_img = len(agent.img_list)\n",
    "result = list()\n",
    "interval_time = 0\n",
    "\n",
    "def push (indata):\n",
    "    for k in range (4):\n",
    "        in_buffer[k] = indata[k]\n",
    "    dma.sendchannel.transfer(in_buffer)\n",
    "    dma.recvchannel.transfer(out_buffer) \n",
    "    dma.sendchannel.wait()\n",
    "    dma.recvchannel.wait()\n",
    "    return out_buffer\n",
    "\n",
    "agent.reset_batch_count()\n",
    "for i in range(math.ceil(total_num_img/BATCH_SIZE)):\n",
    "    start = time.time()\n",
    "    batch = agent.send(interval_time, agent.img_batch)\n",
    "    first_image = batch[0]\n",
    "    blue, green, red = cv2.split(cv2.imread(get_image_path(first_image)))\n",
    "    out_buffer = push(blue[0])\n",
    "    end = time.time()\n",
    "\n",
    "    t = end - start\n",
    "    print('Processing time: {} seconds.'.format(t))\n",
    "    total_time += t\n",
    "    result.append(str(out_buffer))"
   ]
  },
  {
   "cell_type": "markdown",
   "metadata": {},
   "source": [
    "Please use `write()` to record your time performance. \n",
    "Your coordinates should be written into `dac_contest/result/coordinate/teamname/...`.\n",
    "Please put all your intermediate result there. \n",
    "However, it is your choice how to store them."
   ]
  },
  {
   "cell_type": "code",
   "execution_count": 4,
   "metadata": {
    "scrolled": true
   },
   "outputs": [
    {
     "name": "stdout",
     "output_type": "stream",
     "text": [
      "Coordinate results written successfully.\n"
     ]
    }
   ],
   "source": [
    "agent.write(total_time, total_num_img, team)\n",
    "\n",
    "with open(agent.coord_team + '/{}.txt'.format(team), 'w+') as fcoord:\n",
    "    for element in result:\n",
    "        fcoord.write(element)\n",
    "        fcoord.write('\\n')\n",
    "print(\"Coordinate results written successfully.\")"
   ]
  },
  {
   "cell_type": "markdown",
   "metadata": {},
   "source": [
    "The following cell is an example showing how to write coordinates to XML."
   ]
  },
  {
   "cell_type": "code",
   "execution_count": 5,
   "metadata": {},
   "outputs": [
    {
     "name": "stdout",
     "output_type": "stream",
     "text": [
      "XML results written successfully.\n"
     ]
    }
   ],
   "source": [
    "result_rectangle =  [[1,2,3,4],[1,2,3,4]]\n",
    "\n",
    "agent.save_results_xml(result_rectangle)\n",
    "print(\"XML results written successfully.\")"
   ]
  },
  {
   "cell_type": "markdown",
   "metadata": {},
   "source": [
    "Remember to free the contiguous memory after usage."
   ]
  },
  {
   "cell_type": "code",
   "execution_count": 6,
   "metadata": {},
   "outputs": [],
   "source": [
    "xlnk.xlnk_reset()"
   ]
  }
 ],
 "metadata": {
  "kernelspec": {
   "display_name": "Python 3",
   "language": "python",
   "name": "python3"
  },
  "language_info": {
   "codemirror_mode": {
    "name": "ipython",
    "version": 3
   },
   "file_extension": ".py",
   "mimetype": "text/x-python",
   "name": "python",
   "nbconvert_exporter": "python",
   "pygments_lexer": "ipython3",
   "version": "3.6.0"
  }
 },
 "nbformat": 4,
 "nbformat_minor": 2
}
