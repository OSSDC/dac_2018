{
 "cells": [
  {
   "cell_type": "markdown",
   "metadata": {
    "collapsed": true
   },
   "source": [
    "# DAC Contest\n",
    "This reference design will help you walk through a design flow of DAC SDC 2018.\n",
    "It is simplified to help users understand the flow. \n",
    "\n",
    "However, in the real contest, users should still implement all the required functions.\n",
    "\n",
    "If you have any question, please contact [Xinyi Zhang at University of Pittsburgh](mailto:xinyizhang@pitt.edu).\n",
    "\n",
    "## Hardware\n",
    "A simplified block diagram is shown as follows:\n",
    "\n",
    "![](../block_diagram.png)\n",
    "\n",
    "Note that in this block diagram, no actual image processing is done.\n",
    "Pictures are:\n",
    "1. sent from PS to DMA, then DMA to FIFO\n",
    "2. sent back from FIFO to DMA, then DMA to PS.\n",
    "\n",
    "Note that the FIFO should be replaced with meaningful pipeline to process the pictures.\n",
    "\n",
    "## Software\n",
    "Note:\n",
    "1. Any change in `preprocessing.py` will make your design fail in evaluation. This file should not be changed.\n",
    "2. Only \"resize\" is allowed on PS side. Any other inference executed on PS side would be regarded as fail.\n",
    "\n",
    "Time for a batch processing should start before \"PS reading the first images\" and end after \"PS receiving all results\". \n",
    "\n",
    "Please check the reference for details. You can exclude \"save_results_xml\" when counting time.\n",
    "\n",
    "Batch size is 500 by default.\n",
    "\n",
    "Images names should not contain any character.\n",
    "\n",
    "Please write your results using the methods `write()` and `save_results_xml()`.\n",
    "\n",
    "It is your choice how to record the inference result. \n",
    "However, it must be readable, and you must convert it to XML files. An example is provided.\n",
    "Please pack your code into `teamname.ipynb`. \n",
    "Your design should be able to process all evaluation images in cell 4.\n",
    "\n",
    "### 1. Importing all libraries"
   ]
  },
  {
   "cell_type": "code",
   "execution_count": 4,
   "metadata": {},
   "outputs": [],
   "source": [
    "import sys\n",
    "import math\n",
    "import numpy as np\n",
    "import os\n",
    "import time\n",
    "from PIL import Image\n",
    "from matplotlib import pyplot\n",
    "import cv2\n",
    "from datetime import datetime\n",
    "from pynq import Xlnk\n",
    "from pynq import Overlay\n",
    "from xy_preprocessing import Agent\n",
    "from xy_preprocessing import BATCH_SIZE\n",
    "from xy_preprocessing import get_image_path\n",
    "\n",
    "\n",
    "team = 'pynquser'\n",
    "agent = Agent(team)\n"
   ]
  },
  {
   "cell_type": "markdown",
   "metadata": {},
   "source": [
    "Your raw data will be kept in `agent.coord_team`.\n",
    "\n",
    "Your XML files will be kept in `agent.xml_team`.\n",
    "\n",
    "Your overlay and weight files will be kept in `agent.overlay_dir_team`.\n",
    "\n",
    "The following cell is not a real design for image detection. But you can\n",
    "use it to start your design.\n",
    "\n",
    "### 2. Preparing the overlay and weight loading\n",
    "Overlay and weights loading must be executed in this cell.\n",
    "\n",
    "The DMA instance is exposed as an attribute of the overlay object."
   ]
  },
  {
   "cell_type": "code",
   "execution_count": 6,
   "metadata": {
    "collapsed": true
   },
   "outputs": [],
   "source": [
    "overlay = Overlay('/home/xilinx/jupyter_notebooks/dac_contest/overlay/pynquser/dac_contest.bit')\n",
    "dma = overlay.axi_dma_0"
   ]
  },
  {
   "cell_type": "markdown",
   "metadata": {},
   "source": [
    "Data flows from PS to PL, then back to PS by DMA. Using interrupt is recommended.\n",
    "\n",
    "### 3. Resizing a single picture\n",
    "The picture pixel data can be read using `opencv` library.\n",
    "\n",
    "In section 3 and section 4, we will show how to use only the software to resize\n",
    "an image in the batch and pipeline it from PS to PL.\n"
   ]
  },
  {
   "cell_type": "code",
   "execution_count": null,
   "metadata": {
    "collapsed": true
   },
   "outputs": [],
   "source": [
    "interval_time = 0\n",
    "image_path = get_image_path('xilinx.jpg')\n",
    "\n",
    "original_image = Image.open(image_path)\n",
    "original_array = np.array(original_image)\n",
    "original_image.close()\n",
    "\n",
    "pyplot.imshow(original_array, interpolation='nearest')\n",
    "pyplot.show()\n",
    "\n",
    "old_width, old_height = original_image.size\n",
    "print(\"Original image size: {}x{} pixels.\".format(old_height, old_width))"
   ]
  },
  {
   "cell_type": "markdown",
   "metadata": {},
   "source": [
    "Note that this is quite a high-definition picture. \n",
    "So you will be resizing this picture to a specific width or height.\n",
    "The coordinates of the resized picture will be recorded as part of your result.\n",
    "\n",
    "In the following example, we will resize the image by reducing both the height \n",
    "and width by 50%.\n",
    "\n",
    "Note: This is a software example, so you will notice it is quite slow. In the design\n",
    "contest, you can explore hardware acceleration for this kind of image processing."
   ]
  },
  {
   "cell_type": "code",
   "execution_count": null,
   "metadata": {
    "collapsed": true
   },
   "outputs": [],
   "source": [
    "new_width, new_height = int(old_width/2), int(old_height/2)\n",
    "original_image = Image.open(image_path)\n",
    "resized_image = original_image.resize((new_width, new_height), \n",
    "                                      Image.ANTIALIAS)\n",
    "resized_array = np.array(resized_image)\n",
    "original_image.close()\n",
    "\n",
    "pyplot.imshow(resized_array, interpolation='nearest')\n",
    "pyplot.show()\n",
    "\n",
    "width, height = resized_image.size\n",
    "print(\"Resized image size: {}x{} pixels.\".format(height, width))"
   ]
  },
  {
   "cell_type": "markdown",
   "metadata": {},
   "source": [
    "### 4. Pushing a picture through the pipeline\n",
    "In the following example, we will also use contiguous memory arrays for sending\n",
    "and receiving data.\n",
    "\n",
    "The size of the buffer depends on the size of the input or output data.\n",
    "Since the image we process in the following example (`pynq.jpg`) has 263x358 RGB pixels,\n",
    "we will use `cma_array` of the corresponding size as well."
   ]
  },
  {
   "cell_type": "code",
   "execution_count": null,
   "metadata": {
    "collapsed": true
   },
   "outputs": [],
   "source": [
    "xlnk = Xlnk()\n",
    "in_buffer = xlnk.cma_array(shape=(263, 358, 3), dtype=np.uint8)\n",
    "out_buffer = xlnk.cma_array(shape=(263, 358, 3), dtype=np.uint8)"
   ]
  },
  {
   "cell_type": "markdown",
   "metadata": {},
   "source": [
    "Note: In the following example, we are only dealing with one image. \n",
    "We will just send one image to the FIFO and loop it back. \n",
    "In the real contest, you should process all the RGB images in every batch.\n",
    "\n",
    "Note that the `rgb_array` has to be copied into the contiguous memory array\n",
    "(deep copy)."
   ]
  },
  {
   "cell_type": "code",
   "execution_count": null,
   "metadata": {
    "collapsed": true
   },
   "outputs": [],
   "source": [
    "interval_time = 0\n",
    "\n",
    "image_path = get_image_path('pynqz1.jpg')\n",
    "bgr_array = cv2.imread(image_path)\n",
    "rgb_array = cv2.cvtColor(bgr_array, cv2.COLOR_BGR2RGB)\n",
    "in_buffer[:] = rgb_array\n",
    "\n",
    "pyplot.imshow(in_buffer)\n",
    "pyplot.show()"
   ]
  },
  {
   "cell_type": "markdown",
   "metadata": {},
   "source": [
    "Now we will push the data from input buffer through the pipeline to the output buffer."
   ]
  },
  {
   "cell_type": "code",
   "execution_count": null,
   "metadata": {
    "collapsed": true
   },
   "outputs": [],
   "source": [
    "def dma_transfer():\n",
    "    dma.sendchannel.transfer(in_buffer)\n",
    "    dma.recvchannel.transfer(out_buffer)\n",
    "    dma.sendchannel.wait()\n",
    "    dma.recvchannel.wait()\n",
    "\n",
    "dma_transfer()\n",
    "\n",
    "pyplot.imshow(out_buffer)\n",
    "pyplot.show()"
   ]
  },
  {
   "cell_type": "markdown",
   "metadata": {},
   "source": [
    "### 5. Timing and Energy measuring\n",
    "\n",
    "In this cell, you will download the weights first.\n",
    "\n",
    "This cell should include your code for PS images resizing and PL processing.\n",
    "Please include your function code for resizing in this cell as well.\n",
    "\n",
    "You should measure the time for processing all the images. Timer should start \n",
    "before \"PS reading the first image\" and end after \"PS receiving the last results\".\n",
    "\n",
    "We will measure the energy consumption for the this cell.\n",
    "\n",
    "\n",
    "It is easy to time the processing of multiple pictures or batches.\n",
    "In the following example, we will time the processing of a single picture."
   ]
  },
  {
   "cell_type": "code",
   "execution_count": null,
   "metadata": {
    "collapsed": true
   },
   "outputs": [],
   "source": [
    "interval_time = 0\n",
    "total_time = 0\n",
    "total_num_img = len(agent.img_list)\n",
    "result = list()\n",
    "agent.reset_batch_count()\n",
    "\n",
    "for i in range(math.ceil(total_num_img/BATCH_SIZE)):\n",
    "    # get a batch from agent\n",
    "    batch = agent.send(interval_time, agent.img_batch)\n",
    "\n",
    "    # choose a single image from the batch\n",
    "    first_image = sorted(batch)[0]\n",
    "\n",
    "    # timer start when PS reading image\n",
    "    start = time.time()\n",
    "    bgr_array = cv2.imread(get_image_path(first_image))\n",
    "    rgb_array = cv2.cvtColor(bgr_array, cv2.COLOR_BGR2RGB)\n",
    "    in_buffer[:] = rgb_array\n",
    "    dma_transfer()\n",
    "\n",
    "    # timer stop after PS has received image\n",
    "    end = time.time()\n",
    "    t = end - start\n",
    "    print('Processing time: {} seconds.'.format(t))\n",
    "    total_time += t\n",
    "    result.append(str(out_buffer))"
   ]
  },
  {
   "cell_type": "markdown",
   "metadata": {},
   "source": [
    "### 6. Recording results\n",
    "\n",
    "It is your responsibility to record the output raw data.\n",
    "\n",
    "You can put batches results in separate files or a single file. \n",
    "\n",
    "Please use `write()` to record your time performance. \n",
    "Your coordinates should be written into `dac_contest/result/coordinate/teamname/...`.\n",
    "Please put all your intermediate result there. \n",
    "However, it is your choice how to store them."
   ]
  },
  {
   "cell_type": "code",
   "execution_count": null,
   "metadata": {
    "collapsed": true,
    "scrolled": true
   },
   "outputs": [],
   "source": [
    "agent.write(total_time, total_num_img, team)\n",
    "\n",
    "with open(agent.coord_team + '/{}.txt'.format(team), 'w+') as fcoord:\n",
    "    for element in result:\n",
    "        fcoord.write(element)\n",
    "        fcoord.write('\\n')\n",
    "print(\"Coordinate results written successfully.\")"
   ]
  },
  {
   "cell_type": "markdown",
   "metadata": {},
   "source": [
    "The following cell is an example showing how to write coordinates to XML.\n",
    "\n",
    "Continuing the above example:\n",
    "\n",
    "1. There are 2 pictures in the image folder currently, so the length of the `result_rectangle` is 2. \n",
    "\n",
    "2. Each element in `result_rectangle` is a 4-integer list: [xmin, xmax, ymin, ymax].\n",
    "\n",
    "3. Since we have resized one of the images to 707x1350 pixels, we will set that result accordingly.\n",
    "\n",
    "4. Please make sure your XML name is aligned with corresponding images."
   ]
  },
  {
   "cell_type": "code",
   "execution_count": null,
   "metadata": {
    "collapsed": true
   },
   "outputs": [],
   "source": [
    "result_rectangle =  [[0,358,0,263],[0,1350,0,707]]\n",
    "\n",
    "agent.save_results_xml(result_rectangle)\n",
    "print(\"XML results written successfully.\")"
   ]
  },
  {
   "cell_type": "markdown",
   "metadata": {},
   "source": [
    "### 7. Cleaning up\n",
    "Remember to free the contiguous memory after usage."
   ]
  },
  {
   "cell_type": "code",
   "execution_count": null,
   "metadata": {
    "collapsed": true
   },
   "outputs": [],
   "source": [
    "xlnk.xlnk_reset()"
   ]
  },
  {
   "cell_type": "markdown",
   "metadata": {},
   "source": [
    "### 8. What to submit\n",
    "Make sure your .ipynb file contains exactly four cells in submission.\n",
    "\n",
    "Cell one: importing all libraries(section 1).\n",
    "\n",
    "Cell two: downloading the overlay (section 2).\n",
    "\n",
    "Cell three: downloading weights, images resizing and processing (section 3, 4 and 5).\n",
    "\n",
    "Cell four: recording the results and wirting it to XML (section 6).\n",
    "\n",
    "The timer should be added by contestant in cell three.\n",
    "\n",
    "Energy consumption for overlay downloading, weight downloading and results recording are excluded from the total energy.\n",
    "\n",
    "Energy consumption will be measured in cell three only.\n",
    "\n",
    "The monthly submission should only include bitstream file, tcl file, ipynb file and a README file.\n",
    "\n",
    "The final submission should include the files mentioned above and all the source code.\n",
    "\n",
    "A README file is mandatory."
   ]
  },
  {
   "cell_type": "code",
   "execution_count": null,
   "metadata": {
    "collapsed": true
   },
   "outputs": [],
   "source": []
  }
 ],
 "metadata": {
  "kernelspec": {
   "display_name": "Python 3",
   "language": "python",
   "name": "python3"
  },
  "language_info": {
   "codemirror_mode": {
    "name": "ipython",
    "version": 3
   },
   "file_extension": ".py",
   "mimetype": "text/x-python",
   "name": "python",
   "nbconvert_exporter": "python",
   "pygments_lexer": "ipython3",
   "version": "3.6.0"
  }
 },
 "nbformat": 4,
 "nbformat_minor": 2
}
